{
 "cells": [
  {
   "cell_type": "code",
   "execution_count": 2,
   "metadata": {
    "collapsed": true
   },
   "outputs": [],
   "source": [
    "import re"
   ]
  },
  {
   "cell_type": "code",
   "execution_count": 15,
   "metadata": {
    "collapsed": false
   },
   "outputs": [],
   "source": [
    "file = open('dbo.login00.Table.sql', 'r', encoding='UTF-16')"
   ]
  },
  {
   "cell_type": "code",
   "execution_count": 16,
   "metadata": {
    "collapsed": false
   },
   "outputs": [],
   "source": [
    "data = file.read()"
   ]
  },
  {
   "cell_type": "code",
   "execution_count": 17,
   "metadata": {
    "collapsed": false
   },
   "outputs": [
    {
     "data": {
      "text/plain": [
       "'USE [A00000]\\nGO\\n/****** Object:  Table [dbo].[login00]    Script Date: 4/14/2016 9:38:04 AM ******/\\nDROP TABLE [dbo].[login00]\\nGO\\n/****** Object:  Table [dbo].[login00]    Script Date: 4/14/2016 9:38:04 AM ******/\\nSET ANSI_NULLS ON\\nGO\\nSET QUOTED_IDENTIFIER ON\\nGO\\nSET ANSI_PADDING ON\\nGO\\nCREATE TABLE [dbo].[login00](\\n\\t[login00id] [int] IDENTITY(1,1) NOT NULL,\\n\\t[personuuid] [uniqueidentifier] NOT NULL,\\n\\t[accountcode] [varchar](30) NULL,\\n\\t[loginname] [varchar](20) NULL,\\n\\t[passwordhash] [varchar](100) NULL,\\n\\t[passwordtype] [char](1) NULL,\\n\\t[datepasswordexpired] [datetime] NULL,\\n\\t[dateloggedon] [datetime] NULL,\\n\\t[roleloggedon] [char](2) NULL,\\n\\t[active] [bit] NOT NULL,\\n\\t[datedisabled] [datetime] NULL,\\n\\t[datecreated] [datetime] NULL CONSTRAINT [DF_login00_datecreated]  DEFAULT (getdate()),\\n\\t[dateupdated] [datetime] NULL,\\n\\t[rowversion] [timestamp] NOT NULL\\n) ON [PRIMARY]\\n\\nGO\\nSET ANSI_PADDING OFF\\nGO\\n'"
      ]
     },
     "execution_count": 17,
     "metadata": {},
     "output_type": "execute_result"
    }
   ],
   "source": [
    "data"
   ]
  },
  {
   "cell_type": "code",
   "execution_count": 36,
   "metadata": {
    "collapsed": false
   },
   "outputs": [
    {
     "data": {
      "text/plain": [
       "'login00'"
      ]
     },
     "execution_count": 36,
     "metadata": {},
     "output_type": "execute_result"
    }
   ],
   "source": [
    "table = re.findall('(CREATE\\\\s+TABLE\\\\s+\\[dbo\\].\\[.*?\\])', data)[0]\n",
    "table = table.replace('CREATE TABLE [dbo].[','')\n",
    "table = table.replace(']','')\n",
    "table"
   ]
  },
  {
   "cell_type": "code",
   "execution_count": 56,
   "metadata": {
    "collapsed": false
   },
   "outputs": [
    {
     "data": {
      "text/plain": [
       "'(\\n\\t[login00id] [int] IDENTITY(1,1) NOT NULL,\\n\\t[personuuid] [uniqueidentifier] NOT NULL,\\n\\t[accountcode] [varchar](30) NULL,\\n\\t[loginname] [varchar](20) NULL,\\n\\t[passwordhash] [varchar](100) NULL,\\n\\t[passwordtype] [char](1) NULL,\\n\\t[datepasswordexpired] [datetime] NULL,\\n\\t[dateloggedon] [datetime] NULL,\\n\\t[roleloggedon] [char](2) NULL,\\n\\t[active] [bit] NOT NULL,\\n\\t[datedisabled] [datetime] NULL,\\n\\t[datecreated] [datetime] NULL CONSTRAINT [DF_login00_datecreated]  DEFAULT (getdate()),\\n\\t[dateupdated] [datetime] NULL,\\n\\t[rowversion] [timestamp] NOT NULL\\n)'"
      ]
     },
     "execution_count": 56,
     "metadata": {},
     "output_type": "execute_result"
    }
   ],
   "source": [
    "rg = re.compile('.*?.(\\\\(.*\\\\))', re.IGNORECASE|re.DOTALL)\n",
    "columns = rg.search(data)\n",
    "columns = columns.group(1)\n",
    "columns"
   ]
  },
  {
   "cell_type": "code",
   "execution_count": 57,
   "metadata": {
    "collapsed": false
   },
   "outputs": [
    {
     "data": {
      "text/plain": [
       "['\\t[login00id] [int] IDENTITY(1,1) NOT NULL,',\n",
       " '\\t[personuuid] [uniqueidentifier] NOT NULL,',\n",
       " '\\t[accountcode] [varchar](30) NULL,',\n",
       " '\\t[loginname] [varchar](20) NULL,',\n",
       " '\\t[passwordhash] [varchar](100) NULL,',\n",
       " '\\t[passwordtype] [char](1) NULL,',\n",
       " '\\t[datepasswordexpired] [datetime] NULL,',\n",
       " '\\t[dateloggedon] [datetime] NULL,',\n",
       " '\\t[roleloggedon] [char](2) NULL,',\n",
       " '\\t[active] [bit] NOT NULL,',\n",
       " '\\t[datedisabled] [datetime] NULL,',\n",
       " '\\t[datecreated] [datetime] NULL CONSTRAINT [DF_login00_datecreated]  DEFAULT (getdate()),',\n",
       " '\\t[dateupdated] [datetime] NULL,',\n",
       " '\\t[rowversion] [timestamp] NOT NULL']"
      ]
     },
     "execution_count": 57,
     "metadata": {},
     "output_type": "execute_result"
    }
   ],
   "source": [
    "columns = columns.split('\\n')[1:-1]\n",
    "columns"
   ]
  },
  {
   "cell_type": "code",
   "execution_count": 63,
   "metadata": {
    "collapsed": false
   },
   "outputs": [
    {
     "name": "stdout",
     "output_type": "stream",
     "text": [
      "[login00id] [int]\n",
      "[personuuid] [uniqueidentifier]\n",
      "[accountcode] [varchar]\n",
      "[loginname] [varchar]\n",
      "[passwordhash] [varchar]\n",
      "[passwordtype] [char]\n",
      "[datepasswordexpired] [datetime]\n",
      "[dateloggedon] [datetime]\n",
      "[roleloggedon] [char]\n",
      "[active] [bit]\n",
      "[datedisabled] [datetime]\n",
      "[datecreated] [datetime]\n",
      "[dateupdated] [datetime]\n",
      "[rowversion] [timestamp]\n"
     ]
    }
   ],
   "source": [
    "fields = []\n",
    "rg_name = re.compile('.*?(\\\\[.*?\\\\])', re.IGNORECASE|re.DOTALL)\n",
    "rg_type = re.compile('.*?\\\\[.*?\\\\].*?(\\\\[.*?\\\\])', re.IGNORECASE|re.DOTALL)\n",
    "for col in columns:\n",
    "#     print(col)\n",
    "    name = rg_name.search(col)\n",
    "    name = name.group(1)\n",
    "    f_type = rg_type.search(col)\n",
    "    f_type = f_type.group(1)\n",
    "    print(name, f_type)\n",
    "    "
   ]
  }
 ],
 "metadata": {
  "kernelspec": {
   "display_name": "Python 3",
   "language": "python",
   "name": "python3"
  },
  "language_info": {
   "codemirror_mode": {
    "name": "ipython",
    "version": 3
   },
   "file_extension": ".py",
   "mimetype": "text/x-python",
   "name": "python",
   "nbconvert_exporter": "python",
   "pygments_lexer": "ipython3",
   "version": "3.4.3"
  }
 },
 "nbformat": 4,
 "nbformat_minor": 1
}
